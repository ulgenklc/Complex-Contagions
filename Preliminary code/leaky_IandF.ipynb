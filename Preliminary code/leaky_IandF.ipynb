{
 "cells": [
  {
   "cell_type": "code",
   "execution_count": 4,
   "metadata": {},
   "outputs": [],
   "source": [
    "import matplotlib.pyplot as plt\n",
    "import networkx as nx\n",
    "import numpy as np\n",
    "import random"
   ]
  },
  {
   "cell_type": "code",
   "execution_count": 5,
   "metadata": {},
   "outputs": [],
   "source": [
    "class LIF():\n",
    "    \n",
    "    def __init__(self, _I, gl, Cm, El , thresh, spike_val):\n",
    "    \n",
    "        self.current = _I\n",
    "        self.conductance = gl\n",
    "        self.capacitance = Cm\n",
    "        self.membr_potential = El\n",
    "        \n",
    "        self.spiking_threshold = thresh\n",
    "        self.spikes = 0\n",
    "        self.spike_value = spike_val\n",
    "    \n",
    "    def V_values(self, T, dt, interval): \n",
    "        #function for iterating the model and spitting out the change in membrane potential\n",
    "\n",
    "        #T = total simulation length [s]\n",
    "        #dt = step size [s]\n",
    "        #interval = time interval for the applied current-should be between 0 and T/dt\n",
    "    \n",
    "        time    =   np.arange(0, T+dt, dt)      # step values [s]\n",
    "    \n",
    "        # VOLTAGE\n",
    "        V       =   np.zeros(len(time))         # array for saving Voltage history\n",
    "        V[0]    =   self.membr_potential                        # set initial to resting potential\n",
    "        \n",
    "        #CURRENT\n",
    "        I = self.I_values(time,interval)\n",
    "        \n",
    "        ######### Simulation\n",
    "        for i in range(1, len(time)):\n",
    "            # use \"I - V/R = C * dV/dT\" to get this equation\n",
    "            dV =  (I[i] - self.conductance*(V[i-1]-self.membr_potential))/self.capacitance\n",
    "            V[i] = V[i-1] + dV*dt\n",
    "\n",
    "            # in case we exceed threshold\n",
    "            if V[i] > self.spiking_threshold:\n",
    "                V[i-1] = self.spike_value   # set the last step to spike value\n",
    "                V[i] = self.membr_potential       # current step is resting membrane potential\n",
    "                self.spikes += 1     # count spike\n",
    "\n",
    "        return V\n",
    "    \n",
    "    def I_values(self, time, interval): \n",
    "        #function calculating the applied current\n",
    "        \n",
    "        I = np.zeros(len(time))\n",
    "        I[interval[0]:interval[1]] = self.current\n",
    "        return I\n",
    "    \n",
    "    def plotting(self, I, V, time):\n",
    "        ## Plotting\n",
    "        fig = plt.figure(\"Leaky Integrate-and-Fire Neuron\", figsize=(14, 7))\n",
    "        ax = fig.add_subplot(111)\n",
    "        plt.title(\"Leaky Integrate-and-Fire Neuron Simulation\")\n",
    "        fig.subplots_adjust(left=0.1, bottom=0.32)\n",
    "\n",
    "        # plot lines\n",
    "        line = plt.plot(time, V, label=\"Membrane Potential\")[0]\n",
    "        line2 = plt.plot(time, I, label=\"Applied Current\")[0]\n",
    "    \n",
    "        # add legend\n",
    "        plt.legend(loc=\"upper right\")\n",
    "\n",
    "        # add axis labels\n",
    "        plt.ylabel(\"Potential [V]/ Current [A]\")\n",
    "        plt.xlabel(\"Time [s]\")\n",
    "        \n",
    "        return"
   ]
  },
  {
   "cell_type": "code",
   "execution_count": 3,
   "metadata": {},
   "outputs": [
    {
     "data": {
      "image/png": "[encoded data removed]",
      "text/plain": [
       "<Figure size 1008x504 with 1 Axes>"
      ]
     },
     "metadata": {
      "needs_background": "light"
     },
     "output_type": "display_data"
    }
   ],
   "source": [
    "##initial experiment based parameters\n",
    "I_inital = 0.01\n",
    "gl_inital = 0.16\n",
    "Cm_inital = 0.0049\n",
    "\n",
    "##initalize the LIF class\n",
    "leaky_IandF_neuron = LIF(_I = I_inital,  # constant applied current \n",
    "                         gl = gl_inital, # conductance\n",
    "                         Cm = Cm_inital, # capacitance\n",
    "                         El = -0.065,    # membrane potential\n",
    "                         thresh = -0.05, # spiking threshold\n",
    "                         spike_val=0.04) # spiking value\n",
    "\n",
    "##initial time based parameters\n",
    "T = 0.100\n",
    "dt = 0.00002\n",
    "time = np.arange(0, T+dt, dt)\n",
    "interval = [1000,4000]\n",
    "\n",
    "##run the simulations\n",
    "V = leaky_IandF_neuron.V_values(T = T,               # total simulation length          \n",
    "                                dt = dt,             # step size\n",
    "                                interval = interval)# list of length 2 indicating the time interval current applied\n",
    "\n",
    "I = leaky_IandF_neuron.I_values(time, interval)\n",
    "\n",
    "#plot\n",
    "leaky_IandF_neuron.plotting(I,V,time)"
   ]
  },
  {
   "cell_type": "code",
   "execution_count": null,
   "metadata": {},
   "outputs": [],
   "source": []
  },
  {
   "cell_type": "code",
   "execution_count": null,
   "metadata": {},
   "outputs": [],
   "source": []
  },
  {
   "cell_type": "code",
   "execution_count": null,
   "metadata": {},
   "outputs": [],
   "source": []
  },
  {
   "cell_type": "code",
   "execution_count": null,
   "metadata": {},
   "outputs": [],
   "source": []
  }
 ],
 "metadata": {
  "kernelspec": {
   "display_name": "Python 3",
   "language": "python",
   "name": "python3"
  },
  "language_info": {
   "codemirror_mode": {
    "name": "ipython",
    "version": 3
   },
   "file_extension": ".py",
   "mimetype": "text/x-python",
   "name": "python",
   "nbconvert_exporter": "python",
   "pygments_lexer": "ipython3",
   "version": "3.7.6"
  }
 },
 "nbformat": 4,
 "nbformat_minor": 4
}
