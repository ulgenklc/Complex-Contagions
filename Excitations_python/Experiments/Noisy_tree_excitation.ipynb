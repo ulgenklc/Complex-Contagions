{
 "cells": [
  {
   "cell_type": "code",
   "execution_count": 1,
   "metadata": {},
   "outputs": [],
   "source": [
    "import numpy as np\n",
    "import matplotlib.pyplot as plt\n",
    "import networkx as nx"
   ]
  },
  {
   "cell_type": "code",
   "execution_count": 2,
   "metadata": {},
   "outputs": [],
   "source": [
    "class Node:\n",
    "    \n",
    "    def __init__(self, node_id, depth = None, child = None, parent = None, loc = None):\n",
    "        self.id = node_id\n",
    "        self.depth = depth\n",
    "        self.state = None\n",
    "        self.children = child\n",
    "        self.parent = parent\n",
    "        self.location = loc\n",
    "\n",
    "class Noisy_Tree:\n",
    "    \n",
    "    def __init__(self, seed_nodes):\n",
    "        \n",
    "        self.seed_nodes = seed_nodes\n",
    "        self.size = len(seed_nodes)## seed nodes and the root node\n",
    "        \n",
    "        self.root = Node(-1)\n",
    "        self.root.depth = 0\n",
    "        self.root.location = (0,0,0)\n",
    "        self.root.parent = None\n",
    "        self.root.children = self.seed_nodes\n",
    "        \n",
    "        \n",
    "        for j,e in enumerate(self.seed_nodes):\n",
    "            e.depth = 1\n",
    "            e.location = (e.depth, np.sin(e.id*(1/(self.size))*2*np.pi), np.cos(e.id*(1/(self.size)*2*np.pi)))\n",
    "            e.parent = self.root\n",
    "            e.children = None\n",
    "            \n",
    "        self.nodes = seed_nodes\n",
    "        self.leaf = seed_nodes\n",
    "        self.height = 1\n",
    "        \n",
    "    def make_tree(self, height, branching_constant):\n",
    "        new_branch = []\n",
    "        for i in range(height):\n",
    "            node_id = 0\n",
    "            \n",
    "            for j,f in enumerate(self.leaf):\n",
    "                node_id = j * branching_constant\n",
    "                new_branch = [Node(node_id + k, \n",
    "                                   depth = 2 + i, \n",
    "                                   parent = f, \n",
    "                                   loc = (2 + i, \n",
    "                                          np.sin((node_id + k)*(1/(branching_constant*len(self.leaf)))*2*np.pi), \n",
    "                                          np.cos((node_id + k)*(1/(branching_constant*len(self.leaf)))*2*np.pi)))  \n",
    "                              for k in range(branching_constant)]\n",
    "                \n",
    "                f.children = new_branch\n",
    "                self.nodes = self.nodes + new_branch\n",
    "                \n",
    "            self.leaf_update()\n",
    "                \n",
    "        self.size = len(self.nodes)\n",
    "        self.height = 1 + height\n",
    "        \n",
    "        return(None)\n",
    "        \n",
    "    def leaf_update(self):\n",
    "        leaves = []\n",
    "        \n",
    "        for i,e in enumerate(self.nodes):\n",
    "            if e.children == None: leaves.append(e)\n",
    "        self.leaf = leaves\n",
    "        \n",
    "        return(None)\n",
    "    \n",
    "    def get_generations(self, n):\n",
    "        nth_generation = []\n",
    "        for i,e in enumerate(self.nodes):\n",
    "            if e.depth == n: nth_generation.append(e)\n",
    "        return(nth_generation)"
   ]
  },
  {
   "cell_type": "code",
   "execution_count": 3,
   "metadata": {},
   "outputs": [],
   "source": [
    "nodes = []\n",
    "seed = 5\n",
    "for j in range(seed):\n",
    "    nodes.append(Node(j))\n",
    "NT3 = Noisy_Tree(nodes)\n",
    "NT5 = Noisy_Tree(nodes)"
   ]
  },
  {
   "cell_type": "code",
   "execution_count": 4,
   "metadata": {},
   "outputs": [],
   "source": [
    "NT3.make_tree(2,3)\n",
    "NT5.make_tree(2,5)"
   ]
  },
  {
   "cell_type": "code",
   "execution_count": 5,
   "metadata": {},
   "outputs": [
    {
     "data": {
      "text/plain": [
       "Text(0.5, 1.0, '5-Branching Tree')"
      ]
     },
     "execution_count": 5,
     "metadata": {},
     "output_type": "execute_result"
    },
    {
     "data": {
      "image/png": "[encoded data removed]",
      "text/plain": [
       "<Figure size 1152x576 with 2 Axes>"
      ]
     },
     "metadata": {
      "needs_background": "light"
     },
     "output_type": "display_data"
    }
   ],
   "source": [
    "fig,ax = plt.subplots(1,2,figsize = (16,8))\n",
    "layer_colors = {'1':'r', '2':'b', '3':'g', '4':'black', '5':'purple'}\n",
    "for i in range(NT3.size):\n",
    "    ax[0].scatter(NT3.nodes[i].location[0]*NT3.nodes[i].location[1],\n",
    "                  NT3.nodes[i].location[0]*NT3.nodes[i].location[2], \n",
    "                  c =layer_colors['%d'%NT3.nodes[i].location[0]])\n",
    "    \n",
    "for i in range(NT5.size):\n",
    "    ax[1].scatter(NT5.nodes[i].location[0]*NT5.nodes[i].location[1],\n",
    "                  NT5.nodes[i].location[0]*NT5.nodes[i].location[2], \n",
    "                  c =layer_colors['%d'%NT5.nodes[i].location[0]])\n",
    "ax[0].set_title('3-Branching Tree')\n",
    "ax[1].set_title('5-Branching Tree')"
   ]
  },
  {
   "cell_type": "code",
   "execution_count": 27,
   "metadata": {},
   "outputs": [],
   "source": [
    "NTG = nx.DiGraph()\n",
    "NTG.add_edges_from([(1,2),(2,5),(2,3),(5,9)])"
   ]
  },
  {
   "cell_type": "code",
   "execution_count": 21,
   "metadata": {},
   "outputs": [
    {
     "name": "stdout",
     "output_type": "stream",
     "text": [
      "[(0, 0), (0, 1), (0, 2), (0, 3), (0, 4)]\n",
      "[(1, 5), (1, 6), (1, 7), (1, 8), (1, 9)]\n",
      "[(2, 10), (2, 11), (2, 12), (2, 13), (2, 14)]\n",
      "[(3, 15), (3, 16), (3, 17), (3, 18), (3, 19)]\n",
      "[(4, 20), (4, 21), (4, 22), (4, 23), (4, 24)]\n",
      "[(0, 0), (0, 1), (0, 2)]\n",
      "[(1, 3), (1, 4), (1, 5)]\n",
      "[(2, 6), (2, 7), (2, 8)]\n",
      "[(3, 9), (3, 10), (3, 11)]\n",
      "[(4, 12), (4, 13), (4, 14)]\n",
      "[(5, 15), (5, 16), (5, 17)]\n",
      "[(6, 18), (6, 19), (6, 20)]\n",
      "[(7, 21), (7, 22), (7, 23)]\n",
      "[(8, 24), (8, 25), (8, 26)]\n",
      "[(9, 27), (9, 28), (9, 29)]\n",
      "[(10, 30), (10, 31), (10, 32)]\n",
      "[(11, 33), (11, 34), (11, 35)]\n",
      "[(12, 36), (12, 37), (12, 38)]\n",
      "[(13, 39), (13, 40), (13, 41)]\n",
      "[(14, 42), (14, 43), (14, 44)]\n"
     ]
    }
   ],
   "source": [
    "for i in range(1,NT3.height):\n",
    "    for j,e in enumerate(NT3.get_generations(i)):\n",
    "        print([(e.id, e.children[k].id) for k in range(len(e.children))])"
   ]
  },
  {
   "cell_type": "code",
   "execution_count": 14,
   "metadata": {},
   "outputs": [
    {
     "name": "stdout",
     "output_type": "stream",
     "text": [
      "<__main__.Node object at 0x7fcbb821e1d0>\n",
      "<__main__.Node object at 0x7fcbb821e510>\n",
      "<__main__.Node object at 0x7fcbb821e5d0>\n",
      "<__main__.Node object at 0x7fcbb821e610>\n",
      "<__main__.Node object at 0x7fcbb821e550>\n"
     ]
    }
   ],
   "source": [
    "for i,e in enumerate(NT3.get_generations(1)):\n",
    "    print(e)"
   ]
  },
  {
   "cell_type": "code",
   "execution_count": 28,
   "metadata": {},
   "outputs": [
    {
     "data": {
      "image/png": "[encoded data removed]",
      "text/plain": [
       "<Figure size 432x288 with 1 Axes>"
      ]
     },
     "metadata": {},
     "output_type": "display_data"
    }
   ],
   "source": [
    "nx.draw(NTG,with_labels = True)"
   ]
  },
  {
   "cell_type": "code",
   "execution_count": 13,
   "metadata": {},
   "outputs": [
    {
     "data": {
      "text/plain": [
       "[]"
      ]
     },
     "execution_count": 13,
     "metadata": {},
     "output_type": "execute_result"
    }
   ],
   "source": [
    "NT3.get_generations(0)"
   ]
  },
  {
   "cell_type": "code",
   "execution_count": null,
   "metadata": {},
   "outputs": [],
   "source": []
  },
  {
   "cell_type": "code",
   "execution_count": null,
   "metadata": {},
   "outputs": [],
   "source": []
  },
  {
   "cell_type": "code",
   "execution_count": null,
   "metadata": {},
   "outputs": [],
   "source": []
  },
  {
   "cell_type": "code",
   "execution_count": null,
   "metadata": {},
   "outputs": [],
   "source": []
  },
  {
   "cell_type": "code",
   "execution_count": null,
   "metadata": {},
   "outputs": [],
   "source": []
  },
  {
   "cell_type": "code",
   "execution_count": null,
   "metadata": {},
   "outputs": [],
   "source": []
  },
  {
   "cell_type": "code",
   "execution_count": null,
   "metadata": {},
   "outputs": [],
   "source": []
  }
 ],
 "metadata": {
  "kernelspec": {
   "display_name": "Python 3",
   "language": "python",
   "name": "python3"
  },
  "language_info": {
   "codemirror_mode": {
    "name": "ipython",
    "version": 3
   },
   "file_extension": ".py",
   "mimetype": "text/x-python",
   "name": "python",
   "nbconvert_exporter": "python",
   "pygments_lexer": "ipython3",
   "version": "3.7.6"
  }
 },
 "nbformat": 4,
 "nbformat_minor": 4
}
